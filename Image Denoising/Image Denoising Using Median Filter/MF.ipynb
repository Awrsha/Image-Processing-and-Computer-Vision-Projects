{
 "cells": [
  {
   "cell_type": "code",
   "execution_count": 2,
   "metadata": {},
   "outputs": [],
   "source": [
    "import numpy as np\n",
    "import cv2\n",
    "\n",
    "def median_filter_color(image, kernel_size):\n",
    "    filtered_image = np.zeros_like(image)\n",
    "    padding = kernel_size // 2\n",
    "    \n",
    "    for channel in range(3):  # Process each color channel separately\n",
    "        for i in range(padding, image.shape[0] - padding):\n",
    "            for j in range(padding, image.shape[1] - padding):\n",
    "                neighborhood = image[i - padding:i + padding + 1, j - padding:j + padding + 1, channel]\n",
    "                median_value = np.median(neighborhood)\n",
    "                filtered_image[i, j, channel] = median_value\n",
    "    \n",
    "    return filtered_image\n",
    "\n",
    "def advanced_median_filter(image, kernel_size, padding_type='zero'):\n",
    "    if padding_type == 'zero':\n",
    "        padded_image = np.pad(image, ((kernel_size // 2, kernel_size // 2), (kernel_size // 2, kernel_size // 2), (0, 0)), mode='constant')\n",
    "    elif padding_type == 'symmetric':\n",
    "        padded_image = np.pad(image, ((kernel_size // 2, kernel_size // 2), (kernel_size // 2, kernel_size // 2), (0, 0)), mode='symmetric')\n",
    "    elif padding_type == 'circular':\n",
    "        padded_image = np.pad(image, ((kernel_size // 2, kernel_size // 2), (kernel_size // 2, kernel_size // 2), (0, 0)), mode='wrap')\n",
    "    else:\n",
    "        raise ValueError(\"Invalid padding type\")\n",
    "\n",
    "    filtered_image = median_filter_color(padded_image, kernel_size)\n",
    "    return filtered_image\n",
    "\n",
    "# Load the noisy image\n",
    "noisy_image = cv2.imread('noisy.jpg')\n",
    "\n",
    "# Specify the kernel size and padding type\n",
    "kernel_size = 5\n",
    "padding_type = 'symmetric'  # Options: 'zero', 'symmetric', 'circular'\n",
    "\n",
    "# Apply the advanced median filter\n",
    "denoised_image = advanced_median_filter(noisy_image, kernel_size, padding_type)\n",
    "\n",
    "# Save the denoised image (optional)\n",
    "cv2.imwrite('denoised_image.jpg', denoised_image)\n",
    "\n",
    "# Display the noisy and denoised images (optional)\n",
    "cv2.imshow('Noisy Image', noisy_image)\n",
    "cv2.imshow('Denoised Image', denoised_image)\n",
    "cv2.waitKey(0)\n",
    "cv2.destroyAllWindows()"
   ]
  }
 ],
 "metadata": {
  "kernelspec": {
   "display_name": "Python 3",
   "language": "python",
   "name": "python3"
  },
  "language_info": {
   "codemirror_mode": {
    "name": "ipython",
    "version": 3
   },
   "file_extension": ".py",
   "mimetype": "text/x-python",
   "name": "python",
   "nbconvert_exporter": "python",
   "pygments_lexer": "ipython3",
   "version": "3.11.5"
  },
  "orig_nbformat": 4
 },
 "nbformat": 4,
 "nbformat_minor": 2
}
