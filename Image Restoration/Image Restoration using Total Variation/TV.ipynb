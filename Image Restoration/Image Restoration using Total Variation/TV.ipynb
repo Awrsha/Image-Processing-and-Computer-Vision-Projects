{
 "cells": [
  {
   "cell_type": "code",
   "execution_count": 13,
   "metadata": {},
   "outputs": [],
   "source": [
    "import cv2\n",
    "import numpy as np\n",
    "from scipy.optimize import minimize"
   ]
  },
  {
   "cell_type": "code",
   "execution_count": 14,
   "metadata": {},
   "outputs": [],
   "source": [
    "degraded_image = cv2.imread('Lincoln.jpg', cv2.IMREAD_GRAYSCALE)"
   ]
  },
  {
   "cell_type": "code",
   "execution_count": 15,
   "metadata": {},
   "outputs": [],
   "source": [
    "PATCH_SIZE = 64  # Adjust as needed"
   ]
  },
  {
   "cell_type": "code",
   "execution_count": 16,
   "metadata": {},
   "outputs": [],
   "source": [
    "def total_variation(image):\n",
    "    dx = cv2.Sobel(image, cv2.CV_64F, 1, 0, ksize=3)\n",
    "    dy = cv2.Sobel(image, cv2.CV_64F, 0, 1, ksize=3)\n",
    "    tv = np.sum(np.sqrt(dx**2 + dy**2))\n",
    "    return tv"
   ]
  },
  {
   "cell_type": "code",
   "execution_count": 17,
   "metadata": {},
   "outputs": [],
   "source": [
    "def objective_func(x, patch, alpha):\n",
    "    x = x.reshape(patch.shape)\n",
    "    data_fidelity = np.sum((x - patch)**2)\n",
    "    return data_fidelity + alpha * total_variation(x)"
   ]
  },
  {
   "cell_type": "code",
   "execution_count": 18,
   "metadata": {},
   "outputs": [],
   "source": [
    "def restore_image_tv(degraded_image, alpha, max_iter=20):\n",
    "    height, width = degraded_image.shape[:2]\n",
    "    restored = np.zeros_like(degraded_image)\n",
    "\n",
    "    for x in range(0, width, PATCH_SIZE):\n",
    "        for y in range(0, height, PATCH_SIZE):\n",
    "            patch = degraded_image[y:y+PATCH_SIZE, x:x+PATCH_SIZE]\n",
    "            initial_guess = np.copy(patch)\n",
    "            result = minimize(objective_func, initial_guess.flatten(), args=(patch, alpha),\n",
    "                              bounds=[(0, 255)] * patch.size, method='L-BFGS-B', options={'maxiter': max_iter})\n",
    "            restored_patch = result.x.reshape(patch.shape)\n",
    "            restored[y:y+PATCH_SIZE, x:x+PATCH_SIZE] = restored_patch\n",
    "\n",
    "    restored = np.clip(restored, 0, 255).astype(np.uint8)\n",
    "    return restored"
   ]
  },
  {
   "cell_type": "code",
   "execution_count": 19,
   "metadata": {},
   "outputs": [],
   "source": [
    "restored = restore_image_tv(degraded_image, alpha=0.1)"
   ]
  },
  {
   "cell_type": "code",
   "execution_count": 20,
   "metadata": {},
   "outputs": [],
   "source": [
    "cv2.imwrite('restored_image.jpg', restored)\n",
    "cv2.imshow('Restored Image', restored)\n",
    "cv2.waitKey(0)\n",
    "cv2.destroyAllWindows()"
   ]
  }
 ],
 "metadata": {
  "kernelspec": {
   "display_name": "Python 3",
   "language": "python",
   "name": "python3"
  },
  "language_info": {
   "codemirror_mode": {
    "name": "ipython",
    "version": 3
   },
   "file_extension": ".py",
   "mimetype": "text/x-python",
   "name": "python",
   "nbconvert_exporter": "python",
   "pygments_lexer": "ipython3",
   "version": "3.11.3"
  },
  "orig_nbformat": 4
 },
 "nbformat": 4,
 "nbformat_minor": 2
}
