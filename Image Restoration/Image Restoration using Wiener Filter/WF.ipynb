{
 "cells": [
  {
   "cell_type": "code",
   "execution_count": 12,
   "metadata": {},
   "outputs": [],
   "source": [
    "import cv2\n",
    "import numpy as np\n",
    "from scipy.signal import convolve2d\n",
    "\n",
    "def gaussian_psf(size, sigma):\n",
    "    kernel = cv2.getGaussianKernel(size, sigma)\n",
    "    return np.outer(kernel, kernel)\n",
    "\n",
    "def wiener_filter(degraded_image, psf, snr):\n",
    "    # Perform Fourier Transform on the degraded image and PSF\n",
    "    degraded_image_fft = np.fft.fft2(degraded_image)\n",
    "    psf_fft = np.fft.fft2(psf, s=degraded_image.shape)\n",
    "\n",
    "    # Calculate the power spectral density (PSD) of the degraded image\n",
    "    psd_degraded = np.abs(degraded_image_fft) ** 2 / degraded_image.size\n",
    "\n",
    "    # Estimate the PSD of the original image using the Wiener filter formula\n",
    "    psd_restored = psd_degraded / (snr + psd_degraded)\n",
    "\n",
    "    # Apply the Wiener filter in the frequency domain\n",
    "    restored_image_fft = np.conj(psf_fft) * degraded_image_fft / (np.abs(psf_fft) ** 2 + psd_restored)\n",
    "\n",
    "    # Inverse Fourier Transform to get the restored image\n",
    "    restored_image = np.fft.ifft2(restored_image_fft).real\n",
    "\n",
    "    # Clip to ensure pixel values are in the valid range [0, 255]\n",
    "    restored_image = np.clip(restored_image, 0, 255).astype(np.uint8)\n",
    "\n",
    "    return restored_image\n",
    "\n",
    "# Load the degraded image\n",
    "degraded_image = cv2.imread('Lincoln.jpg', cv2.IMREAD_GRAYSCALE)\n",
    "\n",
    "# Define the parameters for the Gaussian PSF\n",
    "psf_size = 15  # Adjust the size as needed\n",
    "psf_sigma = 2  # Adjust the sigma as needed\n",
    "\n",
    "# Generate the Gaussian PSF\n",
    "psf = gaussian_psf(psf_size, psf_sigma)\n",
    "\n",
    "# Set the signal-to-noise ratio (SNR)\n",
    "snr = 20  # Adjust as needed\n",
    "\n",
    "# Apply the Wiener filter\n",
    "restored_image = wiener_filter(degraded_image, psf, snr)\n",
    "\n",
    "# Save or display the restored image\n",
    "cv2.imwrite('restored_image.jpg', restored_image)\n",
    "cv2.imshow('Restored Image', restored_image)\n",
    "cv2.waitKey(0)\n",
    "cv2.destroyAllWindows()\n"
   ]
  }
 ],
 "metadata": {
  "kernelspec": {
   "display_name": "Python 3",
   "language": "python",
   "name": "python3"
  },
  "language_info": {
   "codemirror_mode": {
    "name": "ipython",
    "version": 3
   },
   "file_extension": ".py",
   "mimetype": "text/x-python",
   "name": "python",
   "nbconvert_exporter": "python",
   "pygments_lexer": "ipython3",
   "version": "3.11.3"
  },
  "orig_nbformat": 4
 },
 "nbformat": 4,
 "nbformat_minor": 2
}
