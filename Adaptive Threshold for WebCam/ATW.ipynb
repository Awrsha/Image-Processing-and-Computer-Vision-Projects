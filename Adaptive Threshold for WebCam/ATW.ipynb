{
 "cells": [
  {
   "cell_type": "code",
   "execution_count": null,
   "metadata": {},
   "outputs": [],
   "source": [
    "import cv2\n",
    "import numpy as np\n",
    "import matplotlib.pyplot as plt\n",
    "\n",
    "# Initialize the webcam\n",
    "cap = cv2.VideoCapture(0)\n",
    "\n",
    "while True:\n",
    "    # Read a frame from the webcam\n",
    "    ret, original_image = cap.read()\n",
    "    if not ret:\n",
    "        break\n",
    "    \n",
    "    # Convert the image to grayscale\n",
    "    original_image = cv2.cvtColor(original_image, cv2.COLOR_BGR2GRAY)\n",
    "    \n",
    "    # Noise removal\n",
    "    noise_removed_image = cv2.medianBlur(original_image, 5)  # or cv2.GaussianBlur(original_image, (5, 5), 0)\n",
    "\n",
    "    # Thresholding\n",
    "    _, output1 = cv2.threshold(original_image, 127, 255, cv2.THRESH_BINARY)\n",
    "    output2 = cv2.adaptiveThreshold(original_image, 255, cv2.ADAPTIVE_THRESH_MEAN_C, cv2.THRESH_BINARY, 11, 2)\n",
    "    output3 = cv2.adaptiveThreshold(original_image, 255, cv2.ADAPTIVE_THRESH_GAUSSIAN_C, cv2.THRESH_BINARY, 11, 2)\n",
    "\n",
    "    # Thresholding with noise removal\n",
    "    _, output4 = cv2.threshold(noise_removed_image, 127, 255, cv2.THRESH_BINARY)\n",
    "    output5 = cv2.adaptiveThreshold(noise_removed_image, 255, cv2.ADAPTIVE_THRESH_MEAN_C, cv2.THRESH_BINARY, 11, 2)\n",
    "    output6 = cv2.adaptiveThreshold(noise_removed_image, 255, cv2.ADAPTIVE_THRESH_GAUSSIAN_C, cv2.THRESH_BINARY, 11, 2)\n",
    "\n",
    "    # Display the results in separate windows\n",
    "    cv2.imshow('Original', original_image)\n",
    "    cv2.imshow('Noise removed', noise_removed_image)\n",
    "    cv2.imshow('Global Thresholding (v = 127)', output1)\n",
    "    cv2.imshow('Adaptive Mean Thresholding', output2)\n",
    "    cv2.imshow('Adaptive Gaussian Thresholding', output3)\n",
    "    cv2.imshow('Global Thresholding + noise removal', output4)\n",
    "    cv2.imshow('Adaptive Mean + noise removal', output5)\n",
    "    cv2.imshow('Adaptive Gaussian + noise removal', output6)\n",
    "\n",
    "    # Exit if the 'q' key is pressed\n",
    "    if cv2.waitKey(1) & 0xFF == ord('q'):\n",
    "        break\n",
    "\n",
    "# Release the webcam and close all windows\n",
    "cap.release()\n",
    "cv2.destroyAllWindows()"
   ]
  }
 ],
 "metadata": {
  "language_info": {
   "name": "python"
  },
  "orig_nbformat": 4
 },
 "nbformat": 4,
 "nbformat_minor": 2
}
