{
 "cells": [
  {
   "cell_type": "code",
   "execution_count": null,
   "metadata": {},
   "outputs": [],
   "source": [
    "import cv2\n",
    "import numpy as np\n",
    "\n",
    "def blind_deconvolution(blurry, psf_guess, iterations=50):\n",
    "\n",
    "  restored = np.copy(blurry)\n",
    "\n",
    "  for _ in range(iterations):\n",
    "\n",
    "    # Use np.divide for safety\n",
    "    deconvolved = np.divide(restored, psf_guess + 1e-8)\n",
    "    \n",
    "    blurred = cv2.filter2D(deconvolved, -1, psf_guess)\n",
    "    error = blurry - blurred\n",
    "    \n",
    "    updated_psf = cv2.filter2D(error, -1, deconvolved)\n",
    "    psf_guess = psf_guess + 0.2 * updated_psf\n",
    "    \n",
    "    restored = deconvolved + 0.2 * cv2.filter2D(error, -1, updated_psf)\n",
    "\n",
    "  return restored, psf_guess\n",
    "\n",
    "\n",
    "# Load blurred image\n",
    "blurry = cv2.imread('blurred_image.jpg', 0)  \n",
    "\n",
    "# Initial PSF guess\n",
    "psf_guess = cv2.GaussianBlur(np.ones(shape=(15,15)), (15,15), 0)\n",
    "\n",
    "# Ensure PSF guess matches image shape\n",
    "h, w = blurry.shape\n",
    "psf_guess = cv2.resize(psf_guess, (w, h))\n",
    "\n",
    "# Perform blind deconvolution\n",
    "restored, psf = blind_deconvolution(blurry, psf_guess, iterations=100)\n",
    "\n",
    "# Save outputs\n",
    "cv2.imwrite('restored.jpg', restored)\n",
    "cv2.imwrite('psf.jpg', psf)"
   ]
  }
 ],
 "metadata": {
  "kernelspec": {
   "display_name": "Python 3",
   "language": "python",
   "name": "python3"
  },
  "language_info": {
   "codemirror_mode": {
    "name": "ipython",
    "version": 3
   },
   "file_extension": ".py",
   "mimetype": "text/x-python",
   "name": "python",
   "nbconvert_exporter": "python",
   "pygments_lexer": "ipython3",
   "version": "3.11.5"
  },
  "orig_nbformat": 4
 },
 "nbformat": 4,
 "nbformat_minor": 2
}
