{
 "cells": [
  {
   "cell_type": "code",
   "execution_count": 3,
   "metadata": {},
   "outputs": [],
   "source": [
    "import cv2\n",
    "import numpy as np\n",
    "\n",
    "def estimate_noise_variance(image):\n",
    "    # Estimate the noise variance from the corners of the image\n",
    "    h, w = image.shape\n",
    "    corner_size = 50  # You can adjust this based on your image size\n",
    "    corners = [image[:corner_size, :corner_size],  # Top-left corner\n",
    "               image[:corner_size, -corner_size:],  # Top-right corner\n",
    "               image[-corner_size:, :corner_size],  # Bottom-left corner\n",
    "               image[-corner_size:, -corner_size:]]  # Bottom-right corner\n",
    "    variances = [np.var(corner) for corner in corners]\n",
    "    return np.mean(variances)\n",
    "\n",
    "def deblur_wiener(blurred_image, psf, noise_var):\n",
    "    # Compute the Fourier transforms of the blurred image and the PSF\n",
    "    blurred_image_fft = np.fft.fft2(blurred_image)\n",
    "    psf_fft = np.fft.fft2(psf, s=blurred_image.shape)\n",
    "\n",
    "    # Precompute constant values\n",
    "    psf_abs_squared = np.abs(psf_fft) ** 2\n",
    "    regularization_lambda = 1e-3  # Adjust this regularization parameter\n",
    "    wiener_filter = np.conj(psf_fft) / (psf_abs_squared + noise_var + regularization_lambda)\n",
    "\n",
    "    # Apply the Wiener filter in the frequency domain\n",
    "    deblurred_image_fft = blurred_image_fft * wiener_filter\n",
    "\n",
    "    # Compute the inverse Fourier transform to obtain the deblurred image\n",
    "    deblurred_image = np.fft.ifft2(deblurred_image_fft).real\n",
    "\n",
    "    return deblurred_image\n",
    "\n",
    "\n",
    "# Load the blurred image\n",
    "blurred_image = cv2.imread('blurred_image.jpg', cv2.IMREAD_GRAYSCALE)\n",
    "\n",
    "# Estimate the noise variance from the image\n",
    "noise_var = estimate_noise_variance(blurred_image)\n",
    "\n",
    "# Define the point spread function (PSF) - You need to provide this based on your specific case\n",
    "# Example PSF: psf = np.array([[0.05, 0.2, 0.05], [0.2, 0.5, 0.2], [0.05, 0.2, 0.05]])\n",
    "psf = np.array([[0.05, 0.2, 0.05], \n",
    "                [0.2, 0.5, 0.2],\n",
    "                [0.05, 0.2, 0.05]])\n",
    "# Deblur the image using the Wiener filter with regularization\n",
    "deblurred_image = deblur_wiener(blurred_image, psf, noise_var)\n",
    "\n",
    "# Clip to ensure pixel values are in the valid range [0, 255]\n",
    "deblurred_image = np.clip(deblurred_image, 0, 255).astype(np.uint8)\n",
    "\n",
    "# Save or display the deblurred image\n",
    "cv2.imwrite('deblurred_image_wiener.jpg', deblurred_image)\n",
    "cv2.imshow('Deblurred Image (Wiener)', deblurred_image)\n",
    "cv2.waitKey(0)\n",
    "cv2.destroyAllWindows()"
   ]
  }
 ],
 "metadata": {
  "kernelspec": {
   "display_name": "Python 3",
   "language": "python",
   "name": "python3"
  },
  "language_info": {
   "codemirror_mode": {
    "name": "ipython",
    "version": 3
   },
   "file_extension": ".py",
   "mimetype": "text/x-python",
   "name": "python",
   "nbconvert_exporter": "python",
   "pygments_lexer": "ipython3",
   "version": "3.11.5"
  },
  "orig_nbformat": 4
 },
 "nbformat": 4,
 "nbformat_minor": 2
}
