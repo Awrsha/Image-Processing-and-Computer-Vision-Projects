{
 "cells": [
  {
   "cell_type": "code",
   "execution_count": 6,
   "metadata": {},
   "outputs": [
    {
     "data": {
      "text/plain": [
       "True"
      ]
     },
     "execution_count": 6,
     "metadata": {},
     "output_type": "execute_result"
    }
   ],
   "source": [
    "import cv2\n",
    "import numpy as np\n",
    "\n",
    "def lucy_richardson_deconvolution(blurred_image, psf, iterations):\n",
    "\n",
    "  # Convert to float32\n",
    "  estimated_sharp_image = blurred_image.astype(np.float32)  \n",
    "\n",
    "  conv_with_psf = cv2.filter2D(estimated_sharp_image, -1, psf)\n",
    "\n",
    "  for _ in range(iterations):\n",
    "        \n",
    "    error = blurred_image / (conv_with_psf + 1e-10)\n",
    "\n",
    "    estimated_sharp_image *= cv2.filter2D(error, -1, cv2.flip(psf, -1))\n",
    "\n",
    "    conv_with_psf = cv2.filter2D(estimated_sharp_image, -1, psf)\n",
    "\n",
    "  return estimated_sharp_image\n",
    "\n",
    "\n",
    "# Load blurred image\n",
    "blurred_image = cv2.imread('blurred_image.jpg', 0) \n",
    "\n",
    "# Define PSF\n",
    "psf = np.array([[0.05, 0.2, 0.05], \n",
    "                [0.2, 0.5, 0.2],\n",
    "                [0.05, 0.2, 0.05]])\n",
    "\n",
    "# Perform Lucy-Richardson deconvolution\n",
    "estimated_sharp_image = lucy_richardson_deconvolution(blurred_image, psf, iterations=50)\n",
    "\n",
    "# Convert back to uint8 \n",
    "estimated_sharp_image = np.clip(estimated_sharp_image, 0, 255).astype(np.uint8)\n",
    "\n",
    "# Save restored image\n",
    "cv2.imwrite('restored.jpg', estimated_sharp_image)"
   ]
  }
 ],
 "metadata": {
  "kernelspec": {
   "display_name": "Python 3",
   "language": "python",
   "name": "python3"
  },
  "language_info": {
   "codemirror_mode": {
    "name": "ipython",
    "version": 3
   },
   "file_extension": ".py",
   "mimetype": "text/x-python",
   "name": "python",
   "nbconvert_exporter": "python",
   "pygments_lexer": "ipython3",
   "version": "3.11.5"
  },
  "orig_nbformat": 4
 },
 "nbformat": 4,
 "nbformat_minor": 2
}
