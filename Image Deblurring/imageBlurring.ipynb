{
 "cells": [
  {
   "cell_type": "code",
   "execution_count": 2,
   "metadata": {},
   "outputs": [
    {
     "name": "stdout",
     "output_type": "stream",
     "text": [
      "Error: Could not open image.\n"
     ]
    }
   ],
   "source": [
    "import cv2\n",
    "import matplotlib.pyplot as plt\n",
    "\n",
    "# Load the image\n",
    "image = cv2.imread('test.jpg')  # Replace 'your_image.jpg' with the path to your image file\n",
    "\n",
    "# Check if the image was loaded successfully\n",
    "if image is None:\n",
    "    print(\"Error: Could not open image.\")\n",
    "else:\n",
    "    # Choose the type of blur you want to apply. Here are a few examples:\n",
    "\n",
    "    # Gaussian Blur\n",
    "    blurred_image = cv2.GaussianBlur(image, (9, 9), 0)  # You can adjust the kernel size (9, 9) and the standard deviation (0) as needed\n",
    "\n",
    "    # Median Blur\n",
    "    # blurred_image = cv2.medianBlur(image, 5)  # You can adjust the kernel size (5) as needed\n",
    "\n",
    "    # Bilateral Filter (Preserves edges)\n",
    "    # blurred_image = cv2.bilateralFilter(image, 9, 75, 75)  # You can adjust the parameters (9, 75, 75) as needed\n",
    "\n",
    "    # Convert the BGR image to RGB format for displaying with Matplotlib\n",
    "    blurred_image_rgb = cv2.cvtColor(blurred_image, cv2.COLOR_BGR2RGB)\n",
    "\n",
    "    # Display the original and blurred images using Matplotlib\n",
    "    plt.figure(figsize=(12, 6))\n",
    "    plt.subplot(121)\n",
    "    plt.title('Original Image')\n",
    "    plt.imshow(cv2.cvtColor(image, cv2.COLOR_BGR2RGB))\n",
    "    plt.axis('off')\n",
    "\n",
    "    plt.subplot(122)\n",
    "    plt.title('Blurred Image')\n",
    "    plt.imshow(blurred_image_rgb)\n",
    "    plt.axis('off')\n",
    "\n",
    "    plt.tight_layout()\n",
    "    plt.show()"
   ]
  }
 ],
 "metadata": {
  "kernelspec": {
   "display_name": "Python 3",
   "language": "python",
   "name": "python3"
  },
  "language_info": {
   "codemirror_mode": {
    "name": "ipython",
    "version": 3
   },
   "file_extension": ".py",
   "mimetype": "text/x-python",
   "name": "python",
   "nbconvert_exporter": "python",
   "pygments_lexer": "ipython3",
   "version": "3.11.3"
  },
  "orig_nbformat": 4
 },
 "nbformat": 4,
 "nbformat_minor": 2
}
